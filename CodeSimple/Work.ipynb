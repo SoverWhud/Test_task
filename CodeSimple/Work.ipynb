{
 "cells": [
  {
   "cell_type": "markdown",
   "metadata": {},
   "source": [
    "# Исследование моментов высших порядков"
   ]
  },
  {
   "cell_type": "markdown",
   "metadata": {},
   "source": [
    "#### Подключение библиотек и вспомогательные функции  "
   ]
  },
  {
   "cell_type": "code",
   "execution_count": 1,
   "metadata": {
    "collapsed": false
   },
   "outputs": [],
   "source": [
    "                                                                                                                                                                                                    # Форматирование и внешний вид графиков\n",
    "import matplotlib.pyplot as plt\n",
    "\n",
    "# -*- coding: utf-8 -*-\n",
    "from __future__ import unicode_literals\n",
    "\n",
    "plt.rc('font', family='Arial')"
   ]
  },
  {
   "cell_type": "code",
   "execution_count": 2,
   "metadata": {
    "collapsed": true
   },
   "outputs": [],
   "source": [
    "def setXlim(ax, deltaXmin, deltaXmax):\n",
    "    xlim = ax.get_xlim()\n",
    "    xmin, xmax = xlim[0], xlim[1]\n",
    "    ax.set_xlim(xmin + deltaXmin, xmax + deltaXmax)\n",
    "\n",
    "def setYlim(ax, deltaYmin, deltaYmax):\n",
    "    ylim = ax.get_ylim()\n",
    "    ymin,ymax = ylim[0], ylim[1]\n",
    "    ax.set_ylim(ymin + deltaYmin, ymax + deltaYmax)\n",
    "\n",
    "# отрисовка графика гистограмм\n",
    "def showHist(norm, mu, sigma, ax, nbins = 30):\n",
    "    hist, bins, ignore = ax.hist(norm, nbins, normed = True, edgecolor='black')\n",
    "    \n",
    "    xmin, xmax = min(bins), max(bins)\n",
    "    ymin, ymax = min(hist), max(hist)\n",
    "    \n",
    "    ax.set_xlim(xmin, xmax)\n",
    "    ax.set_ylim(ymin, ymax)\n",
    "    \n",
    "    title = \"Xmin: {0:.4f}; Xmax: {1:.4f};\\n\".format(xmin, xmax) + \\\n",
    "            \"Ymin: {0:.4f}; Ymax: {1:.4f};\\n\".format(ymin, ymax)\n",
    "    ax.set_xlabel(title)\n",
    "    \n",
    "    return hist, bins"
   ]
  },
  {
   "cell_type": "markdown",
   "metadata": {},
   "source": [
    "## Генерация изображений"
   ]
  },
  {
   "cell_type": "markdown",
   "metadata": {},
   "source": [
    "### 1. Генерация массивов с нормальным распределением"
   ]
  },
  {
   "cell_type": "markdown",
   "metadata": {},
   "source": [
    "Случайная велечина с требуемыми параметрами математического ожидания (МО) $\\mu$ и среднеквадратического отклонения (СКО) $\\sigma$ получаются по формуле:\n",
    "\n",
    "$$n = \\mu + \\sigma x$$\n",
    "\n",
    "где $x$ - нормальная случайная величина с параметрами распределения $N(0,1)$"
   ]
  },
  {
   "cell_type": "code",
   "execution_count": 3,
   "metadata": {
    "collapsed": true
   },
   "outputs": [],
   "source": [
    "import numpy as np\n",
    "def randNormal(mu, sigma, nx, ny):\n",
    "    x = mu + sigma * np.random.randn(nx*ny)\n",
    "    return x"
   ]
  },
  {
   "cell_type": "code",
   "execution_count": 4,
   "metadata": {
    "collapsed": false
   },
   "outputs": [],
   "source": [
    "# Генерация массива элементов с заданными параметрами нормального распределения\n",
    "mu, sigma = 0, 1\n",
    "Nx, Ny = 1000, 1000\n",
    "\n",
    "norm1 = randNormal(mu, sigma, Nx, Ny)\n",
    "norm2 = randNormal(mu, sigma, Nx, Ny)"
   ]
  },
  {
   "cell_type": "markdown",
   "metadata": {},
   "source": [
    "Плотность вероятности для нормального (гауссова) распределения:\n",
    "$$p(x, \\mu, \\sigma)=\\dfrac{1}{\\sqrt{2\\pi\\sigma^2}} e^{-\\dfrac{(x-\\mu)^2}{2\\sigma^2}}$$"
   ]
  },
  {
   "cell_type": "code",
   "execution_count": 5,
   "metadata": {
    "collapsed": false
   },
   "outputs": [
    {
     "data": {
      "image/png": "[encoded data removed]",
      "text/plain": [
       "<matplotlib.figure.Figure at 0x6da96d8>"
      ]
     },
     "metadata": {},
     "output_type": "display_data"
    }
   ],
   "source": [
    "# Отрисовка гистограм элементов с нормальным законом распределения\n",
    "fig, (ax1, ax2) = plt.subplots(1,2, sharey=True, figsize=(10, 3))\n",
    "fig.suptitle('Графики нормального закона распределения, из которых будет формироваться релеевское распределение', fontsize=14, fontweight='bold')\n",
    "fig.subplots_adjust(top=0.85)\n",
    "\n",
    "#плотность верятности нормального закона\n",
    "p_norm = lambda x, mu, sigma: 1/(sigma * np.sqrt(2 * np.pi)) * np.exp( - (x - mu)**2 / (2 * sigma**2))\n",
    "\n",
    "# Первый график\n",
    "hist, bins = showHist(norm1, mu, sigma, ax1, nbins = 30)\n",
    "ax1.plot(bins, p_norm(bins, mu, sigma), linewidth=2, color='r')  #Грфик огибающей\n",
    "\n",
    "# Второй график\n",
    "hist, bins = showHist(norm2, mu, sigma, ax2, nbins = 30)\n",
    "ax2.plot(bins, p_norm(bins, mu, sigma), linewidth=2, color='r')  #Грфик огибающей\n",
    "\n",
    "setYlim(ax1, deltaYmin = 0, deltaYmax = 0.03)\n",
    "\n",
    "plt.show()"
   ]
  },
  {
   "cell_type": "markdown",
   "metadata": {
    "collapsed": true
   },
   "source": [
    "### 2. Генерация массива с релеевским законом рапределения"
   ]
  },
  {
   "cell_type": "markdown",
   "metadata": {},
   "source": [
    "Случайная велечина с релеевским законом распределения получаются по формуле: $r= \\sqrt{n_{1}^2 + n_{2}^2}$\n",
    "\n",
    "где $n_1$ и $n_2$ - независимые случайные величины с нормальным законом расределения"
   ]
  },
  {
   "cell_type": "code",
   "execution_count": 6,
   "metadata": {
    "collapsed": false
   },
   "outputs": [],
   "source": [
    "def randRelay(sigma, nx, ny):\n",
    "    norm1 = randNormal(0, sigma, Nx, Ny)\n",
    "    norm2 = randNormal(0, sigma, Nx, Ny)\n",
    "    return np.sqrt(norm1 ** 2 + norm2 ** 2)\n",
    "\n",
    "relay = randRelay(sigma, Nx, Ny)"
   ]
  },
  {
   "cell_type": "markdown",
   "metadata": {},
   "source": [
    "Плотность вероятности для релеевского распределения:\n",
    "$$f(x, \\sigma)=\\dfrac{x}{\\sigma^2} e^{-\\dfrac{x^2}{2\\sigma^2}}$$"
   ]
  },
  {
   "cell_type": "code",
   "execution_count": 7,
   "metadata": {
    "collapsed": false
   },
   "outputs": [
    {
     "data": {
      "image/png": "[encoded data removed]",
      "text/plain": [
       "<matplotlib.figure.Figure at 0x7d09f28>"
      ]
     },
     "metadata": {},
     "output_type": "display_data"
    }
   ],
   "source": [
    "# Отрисовка гистограммы элементов с релеевским законом распределения\n",
    "fig = plt.figure(figsize=(10, 2.5))\n",
    "ax = plt.subplot()\n",
    "fig.suptitle('График исследуемого релеевского распределения', fontsize=14, fontweight='bold')\n",
    "fig.subplots_adjust(top=0.85)\n",
    "\n",
    "#плотность верятности релеевского расределения\n",
    "p_relay = lambda x, sigma: x/(sigma**2) * np.exp( - x**2 / (2 * sigma**2))\n",
    "\n",
    "hist, bins = showHist(relay, mu, sigma, ax, nbins = 30)\n",
    "ax.plot(bins, p_relay(bins, sigma), linewidth=2, color='r')  #Грфик огибающей\n",
    "\n",
    "setYlim(ax, deltaYmin = 0, deltaYmax = 0.05)\n",
    "\n",
    "plt.show()"
   ]
  },
  {
   "cell_type": "markdown",
   "metadata": {
    "collapsed": true
   },
   "source": [
    "### 3. Моменты распределения случайной дискретной величины"
   ]
  },
  {
   "cell_type": "markdown",
   "metadata": {},
   "source": [
    "1) Формулы расчета начальных моментов:\n",
    "$$\\hspace{1.5cm} m_k(x) = \\dfrac{1}{N} \\sum\\limits_{i=1}^N x_i^k$$\n",
    "$\\hspace{.5cm}$ где $x_i$ - дискретные случайные величины\n",
    "\n",
    "2) Формулы расчета центральных моментов:\n",
    "\n",
    "$\\hspace{1.5cm} M_2 = m_2 - m_1^2$\n",
    "\n",
    "$\\hspace{1.5cm} M_3 = m_3 - 3\\ m_1\\ m_2 + 2\\ m_1^3$\n",
    "\n",
    "$\\hspace{1.5cm} M_4 = m_4 - 4\\ m_3\\ m_1 + 6\\ m_2\\ m_1^2 - 3\\ m_1^4$\n",
    "\n",
    "3) Коэффициент асимметрии: $\\hspace{1.5cm} k = \\dfrac{M_3}{\\sqrt{M_2^3}}$\n",
    "\n",
    "4) Коэффициент эксцесса: $\\hspace{2.0cm} \\gamma = \\dfrac{M_4}{M_2^2} - 3$"
   ]
  },
  {
   "cell_type": "code",
   "execution_count": 8,
   "metadata": {
    "collapsed": false
   },
   "outputs": [],
   "source": [
    "# Функция расчета начального момента k-порядка\n",
    "def m(x, k): \n",
    "    if x.size == 0:\n",
    "        raise Exception('Получен пустой массив')\n",
    "    \n",
    "    return np.sum(x**k) / float(x.size)\n",
    "\n",
    "m1 = lambda x: m(x, 1)\n",
    "m2 = lambda x: m(x, 2)\n",
    "m3 = lambda x: m(x, 3)\n",
    "m4 = lambda x: m(x, 4)\n",
    "\n",
    "# Функции расчета центральных моментов\n",
    "M2 = lambda x: m2(x) - m1(x) ** 2\n",
    "M3 = lambda x: m3(x) - 3 * m1(x) * m2(x) + 2 * (m1(x)**3)\n",
    "M4 = lambda x: m4(x) - 4 * m3(x) * m1(x) + 6 * m2(x) * (m1(x) ** 2) - 3 * (m1(x)**4)\n",
    "\n",
    "# Функции расчета коэффициента асимметрии\n",
    "k = lambda x: M3(x) / np.sqrt(M2(x) ** 3)\n",
    "\n",
    "# Функции расчета коэффициента эксцесса\n",
    "g = lambda x: M4(x) / (M2(x) ** 2) - 3"
   ]
  },
  {
   "cell_type": "markdown",
   "metadata": {
    "collapsed": false
   },
   "source": [
    "### 3. Генерация серии экспериментов"
   ]
  },
  {
   "cell_type": "markdown",
   "metadata": {},
   "source": [
    "Размер формируемой выборки для анализа задается либо числом, либо вычисляется исходя из колличества независимых экспериментов, которые необходимо провести и размеров анализируемого окна."
   ]
  },
  {
   "cell_type": "code",
   "execution_count": 9,
   "metadata": {
    "collapsed": false
   },
   "outputs": [],
   "source": [
    "#Nx, Ny = 1000, 1000  # Размер исследуемой выборки может быть задан заранее\n",
    "\n",
    "N_expr = 10000                 # Колличество независимых экспериментов\n",
    "n_wins = range(2, 101, 1)     # Различные размеры скользящих окон\n",
    "signal = 0\n",
    "# n_wins = range(2,11,1)\n",
    "# n_wins = [2]\n",
    "\n",
    "dir_name = \"data\""
   ]
  },
  {
   "cell_type": "markdown",
   "metadata": {},
   "source": [
    "Данные будут сохраняются в текстовом формате"
   ]
  },
  {
   "cell_type": "code",
   "execution_count": 10,
   "metadata": {
    "collapsed": false
   },
   "outputs": [],
   "source": [
    "import os\n",
    "def checkFile(path):\n",
    "    res = os.path.isfile(path)\n",
    "    if res:\n",
    "        print \"File '{0}' exists\".format(path)\n",
    "    else:\n",
    "        print \"File '{0}' not found\".format(path)\n",
    "    return res\n",
    "\n",
    "def loadFile(dir_name, file_name):\n",
    "    path = os.path.join(dir_name, file_name)\n",
    "    if checkFile(path):\n",
    "        print \"File '{0}' is loaded\\n\".format(path)\n",
    "        return np.loadtxt(path)\n",
    "        \n",
    "    return None    \n",
    "\n",
    "def saveFile(dir_name, file_name, data, fmt=b'%.18e'):\n",
    "    path = os.path.join(dir_name, file_name)\n",
    "    with file(path, 'w') as outfile:\n",
    "        print \"Save file '{0}'\".format(path)\n",
    "        np.savetxt(outfile, data, fmt=fmt)\n",
    "    \n",
    "    outfile.close()\n",
    "    \n",
    "def saveToEndFile(dir_name, file_name, data, fmt=b'%.18e'):\n",
    "    path = os.path.join(dir_name, file_name)\n",
    "    if not os.path.exists(os.path.dirname(path)):\n",
    "        try:\n",
    "            os.makedirs(os.path.dirname(path))\n",
    "        except OSError as exc: # Guard against race condition\n",
    "            if exc.errno != errno.EEXIST:\n",
    "                raise\n",
    "    with file(path, 'a') as outfile:\n",
    "        print \"Save to end file '{0}'\".format(path)\n",
    "        np.savetxt(outfile, data, fmt=fmt)"
   ]
  },
  {
   "cell_type": "markdown",
   "metadata": {},
   "source": [
    "#### 3.1 Генерация изображений с релеевским законом распределения"
   ]
  },
  {
   "cell_type": "markdown",
   "metadata": {},
   "source": [
    "Дисперсия случайной величины, распределенной по релеевскому закону:\n",
    "$$M_2 = \\dfrac{4-\\pi}{2}\\sigma^2$$\n",
    "\n",
    "Т.о. для того чтобы расчитывать параметры распределения для требуемой дисперсии:\n",
    "$$\\sigma = \\sqrt{\\dfrac{2M_2}{4-\\pi}}$$"
   ]
  },
  {
   "cell_type": "code",
   "execution_count": 11,
   "metadata": {
    "collapsed": false
   },
   "outputs": [
    {
     "name": "stdout",
     "output_type": "stream",
     "text": [
      "1.52639974553\n"
     ]
    }
   ],
   "source": [
    "import math\n",
    "rayleigh_dispersion = 1\n",
    "sigma = math.sqrt(2*rayleigh_dispersion / (4.0 - math.pi))\n",
    "print sigma"
   ]
  },
  {
   "cell_type": "markdown",
   "metadata": {},
   "source": [
    "Результаты моделирования складываются в соответствующую директорию, путь к которой указывается относительно рабочего документа:"
   ]
  },
  {
   "cell_type": "code",
   "execution_count": 12,
   "metadata": {
    "collapsed": false
   },
   "outputs": [],
   "source": [
    "dir_image = os.path.join(dir_name, \"rayleigh\")\n",
    "file_image_name = \"Image_{0}_{1}x{2}.{3}\"\n",
    "suffix_image = \"txt\""
   ]
  },
  {
   "cell_type": "code",
   "execution_count": 13,
   "metadata": {
    "collapsed": false
   },
   "outputs": [],
   "source": [
    "def getSampleSize(n_expr, nx, ny):\n",
    "    '''Calculate size of sample    \n",
    "    \n",
    "    Keyword arguments:\n",
    "    N -- number of independent experiments, \n",
    "    nx, ny -- Sliding window size\n",
    "    '''\n",
    "    y = math.ceil(math.sqrt(n_expr))\n",
    "    x = math.ceil(n_expr / y)\n",
    "    \n",
    "    return int(x) * nx, int(y) * ny\n",
    "\n",
    "def getRelayImage(nx, ny, sigma, dir_name, file_name):\n",
    "    relayImage = loadFile(dir_name, file_name)\n",
    "    \n",
    "    if(relayImage is None):\n",
    "        relayImage = randRelay(sigma, Nx, Ny).reshape(Nx, Ny)\n",
    "        saveFile(dir_name, file_name, relayImage)\n",
    "\n",
    "    return relayImage"
   ]
  },
  {
   "cell_type": "markdown",
   "metadata": {},
   "source": [
    "Запускаем процесс генерации файлов изображений, если они не были сформированы заранее"
   ]
  },
  {
   "cell_type": "code",
   "execution_count": 14,
   "metadata": {
    "collapsed": false
   },
   "outputs": [
    {
     "name": "stdout",
     "output_type": "stream",
     "text": [
      "File 'data\\rayleigh\\Image_1_200x200.txt' exists\n",
      "File 'data\\rayleigh\\Image_1_200x200.txt' is loaded\n",
      "\n",
      "File 'data\\rayleigh\\Image_1_300x300.txt' exists\n",
      "File 'data\\rayleigh\\Image_1_300x300.txt' is loaded\n",
      "\n",
      "File 'data\\rayleigh\\Image_1_400x400.txt' exists\n",
      "File 'data\\rayleigh\\Image_1_400x400.txt' is loaded\n",
      "\n",
      "File 'data\\rayleigh\\Image_1_500x500.txt' exists\n",
      "File 'data\\rayleigh\\Image_1_500x500.txt' is loaded\n",
      "\n",
      "File 'data\\rayleigh\\Image_1_600x600.txt' exists\n",
      "File 'data\\rayleigh\\Image_1_600x600.txt' is loaded\n",
      "\n",
      "File 'data\\rayleigh\\Image_1_700x700.txt' exists\n",
      "File 'data\\rayleigh\\Image_1_700x700.txt' is loaded\n",
      "\n",
      "File 'data\\rayleigh\\Image_1_800x800.txt' exists\n",
      "File 'data\\rayleigh\\Image_1_800x800.txt' is loaded\n",
      "\n",
      "File 'data\\rayleigh\\Image_1_900x900.txt' exists\n",
      "File 'data\\rayleigh\\Image_1_900x900.txt' is loaded\n",
      "\n",
      "File 'data\\rayleigh\\Image_1_1000x1000.txt' exists\n",
      "File 'data\\rayleigh\\Image_1_1000x1000.txt' is loaded\n",
      "\n",
      "File 'data\\rayleigh\\Image_1_1100x1100.txt' exists\n",
      "File 'data\\rayleigh\\Image_1_1100x1100.txt' is loaded\n",
      "\n",
      "File 'data\\rayleigh\\Image_1_1200x1200.txt' exists\n",
      "File 'data\\rayleigh\\Image_1_1200x1200.txt' is loaded\n",
      "\n",
      "File 'data\\rayleigh\\Image_1_1300x1300.txt' exists\n",
      "File 'data\\rayleigh\\Image_1_1300x1300.txt' is loaded\n",
      "\n",
      "File 'data\\rayleigh\\Image_1_1400x1400.txt' exists\n",
      "File 'data\\rayleigh\\Image_1_1400x1400.txt' is loaded\n",
      "\n",
      "File 'data\\rayleigh\\Image_1_1500x1500.txt' exists\n",
      "File 'data\\rayleigh\\Image_1_1500x1500.txt' is loaded\n",
      "\n"
     ]
    },
    {
     "ename": "KeyboardInterrupt",
     "evalue": "",
     "output_type": "error",
     "traceback": [
      "\u001b[0;31m---------------------------------------------------------------------------\u001b[0m",
      "\u001b[0;31mKeyboardInterrupt\u001b[0m                         Traceback (most recent call last)",
      "\u001b[0;32m<ipython-input-14-735c5d644691>\u001b[0m in \u001b[0;36m<module>\u001b[0;34m()\u001b[0m\n\u001b[1;32m      3\u001b[0m     \u001b[0mimage_name\u001b[0m \u001b[1;33m=\u001b[0m \u001b[0mfile_image_name\u001b[0m\u001b[1;33m.\u001b[0m\u001b[0mformat\u001b[0m\u001b[1;33m(\u001b[0m\u001b[0mrayleigh_dispersion\u001b[0m\u001b[1;33m,\u001b[0m \u001b[0mstr\u001b[0m\u001b[1;33m(\u001b[0m\u001b[0mNx\u001b[0m\u001b[1;33m)\u001b[0m\u001b[1;33m,\u001b[0m \u001b[0mstr\u001b[0m\u001b[1;33m(\u001b[0m\u001b[0mNy\u001b[0m\u001b[1;33m)\u001b[0m\u001b[1;33m,\u001b[0m \u001b[0msuffix_image\u001b[0m\u001b[1;33m)\u001b[0m\u001b[1;33m\u001b[0m\u001b[0m\n\u001b[1;32m      4\u001b[0m \u001b[1;33m\u001b[0m\u001b[0m\n\u001b[0;32m----> 5\u001b[0;31m     \u001b[0mgetRelayImage\u001b[0m\u001b[1;33m(\u001b[0m\u001b[0mNx\u001b[0m\u001b[1;33m,\u001b[0m \u001b[0mNy\u001b[0m\u001b[1;33m,\u001b[0m \u001b[0msigma\u001b[0m\u001b[1;33m,\u001b[0m \u001b[0mdir_image\u001b[0m\u001b[1;33m,\u001b[0m \u001b[0mimage_name\u001b[0m\u001b[1;33m)\u001b[0m\u001b[1;33m\u001b[0m\u001b[0m\n\u001b[0m",
      "\u001b[0;32m<ipython-input-13-3fb46aa5a2a3>\u001b[0m in \u001b[0;36mgetRelayImage\u001b[0;34m(nx, ny, sigma, dir_name, file_name)\u001b[0m\n\u001b[1;32m     12\u001b[0m \u001b[1;33m\u001b[0m\u001b[0m\n\u001b[1;32m     13\u001b[0m \u001b[1;32mdef\u001b[0m \u001b[0mgetRelayImage\u001b[0m\u001b[1;33m(\u001b[0m\u001b[0mnx\u001b[0m\u001b[1;33m,\u001b[0m \u001b[0mny\u001b[0m\u001b[1;33m,\u001b[0m \u001b[0msigma\u001b[0m\u001b[1;33m,\u001b[0m \u001b[0mdir_name\u001b[0m\u001b[1;33m,\u001b[0m \u001b[0mfile_name\u001b[0m\u001b[1;33m)\u001b[0m\u001b[1;33m:\u001b[0m\u001b[1;33m\u001b[0m\u001b[0m\n\u001b[0;32m---> 14\u001b[0;31m     \u001b[0mrelayImage\u001b[0m \u001b[1;33m=\u001b[0m \u001b[0mloadFile\u001b[0m\u001b[1;33m(\u001b[0m\u001b[0mdir_name\u001b[0m\u001b[1;33m,\u001b[0m \u001b[0mfile_name\u001b[0m\u001b[1;33m)\u001b[0m\u001b[1;33m\u001b[0m\u001b[0m\n\u001b[0m\u001b[1;32m     15\u001b[0m \u001b[1;33m\u001b[0m\u001b[0m\n\u001b[1;32m     16\u001b[0m     \u001b[1;32mif\u001b[0m\u001b[1;33m(\u001b[0m\u001b[0mrelayImage\u001b[0m \u001b[1;32mis\u001b[0m \u001b[0mNone\u001b[0m\u001b[1;33m)\u001b[0m\u001b[1;33m:\u001b[0m\u001b[1;33m\u001b[0m\u001b[0m\n",
      "\u001b[0;32m<ipython-input-10-3f9db393567a>\u001b[0m in \u001b[0;36mloadFile\u001b[0;34m(dir_name, file_name)\u001b[0m\n\u001b[1;32m     12\u001b[0m     \u001b[1;32mif\u001b[0m \u001b[0mcheckFile\u001b[0m\u001b[1;33m(\u001b[0m\u001b[0mpath\u001b[0m\u001b[1;33m)\u001b[0m\u001b[1;33m:\u001b[0m\u001b[1;33m\u001b[0m\u001b[0m\n\u001b[1;32m     13\u001b[0m         \u001b[1;32mprint\u001b[0m \u001b[1;34m\"File '{0}' is loaded\\n\"\u001b[0m\u001b[1;33m.\u001b[0m\u001b[0mformat\u001b[0m\u001b[1;33m(\u001b[0m\u001b[0mpath\u001b[0m\u001b[1;33m)\u001b[0m\u001b[1;33m\u001b[0m\u001b[0m\n\u001b[0;32m---> 14\u001b[0;31m         \u001b[1;32mreturn\u001b[0m \u001b[0mnp\u001b[0m\u001b[1;33m.\u001b[0m\u001b[0mloadtxt\u001b[0m\u001b[1;33m(\u001b[0m\u001b[0mpath\u001b[0m\u001b[1;33m)\u001b[0m\u001b[1;33m\u001b[0m\u001b[0m\n\u001b[0m\u001b[1;32m     15\u001b[0m \u001b[1;33m\u001b[0m\u001b[0m\n\u001b[1;32m     16\u001b[0m     \u001b[1;32mreturn\u001b[0m \u001b[0mNone\u001b[0m\u001b[1;33m\u001b[0m\u001b[0m\n",
      "\u001b[0;32mE:\\Python\\Anaconda2\\lib\\site-packages\\numpy\\lib\\npyio.pyc\u001b[0m in \u001b[0;36mloadtxt\u001b[0;34m(fname, dtype, comments, delimiter, converters, skiprows, usecols, unpack, ndmin)\u001b[0m\n\u001b[1;32m    928\u001b[0m \u001b[1;33m\u001b[0m\u001b[0m\n\u001b[1;32m    929\u001b[0m             \u001b[1;31m# Convert each value according to its column and store\u001b[0m\u001b[1;33m\u001b[0m\u001b[1;33m\u001b[0m\u001b[0m\n\u001b[0;32m--> 930\u001b[0;31m             \u001b[0mitems\u001b[0m \u001b[1;33m=\u001b[0m \u001b[1;33m[\u001b[0m\u001b[0mconv\u001b[0m\u001b[1;33m(\u001b[0m\u001b[0mval\u001b[0m\u001b[1;33m)\u001b[0m \u001b[1;32mfor\u001b[0m \u001b[1;33m(\u001b[0m\u001b[0mconv\u001b[0m\u001b[1;33m,\u001b[0m \u001b[0mval\u001b[0m\u001b[1;33m)\u001b[0m \u001b[1;32min\u001b[0m \u001b[0mzip\u001b[0m\u001b[1;33m(\u001b[0m\u001b[0mconverters\u001b[0m\u001b[1;33m,\u001b[0m \u001b[0mvals\u001b[0m\u001b[1;33m)\u001b[0m\u001b[1;33m]\u001b[0m\u001b[1;33m\u001b[0m\u001b[0m\n\u001b[0m\u001b[1;32m    931\u001b[0m             \u001b[1;31m# Then pack it according to the dtype's nesting\u001b[0m\u001b[1;33m\u001b[0m\u001b[1;33m\u001b[0m\u001b[0m\n\u001b[1;32m    932\u001b[0m             \u001b[0mitems\u001b[0m \u001b[1;33m=\u001b[0m \u001b[0mpack_items\u001b[0m\u001b[1;33m(\u001b[0m\u001b[0mitems\u001b[0m\u001b[1;33m,\u001b[0m \u001b[0mpacking\u001b[0m\u001b[1;33m)\u001b[0m\u001b[1;33m\u001b[0m\u001b[0m\n",
      "\u001b[0;31mKeyboardInterrupt\u001b[0m: "
     ]
    }
   ],
   "source": [
    "for n in n_wins:\n",
    "    Nx, Ny = getSampleSize(N_expr, n, n)  # Размер исследуемой выборки вычисляется\n",
    "    image_name = file_image_name.format(rayleigh_dispersion, str(Nx), str(Ny), suffix_image)\n",
    "    \n",
    "    getRelayImage(Nx, Ny, sigma, dir_image, image_name)"
   ]
  }
 ],
 "metadata": {
  "anaconda-cloud": {},
  "kernelspec": {
   "display_name": "Python 2",
   "language": "python",
   "name": "python2"
  },
  "language_info": {
   "codemirror_mode": {
    "name": "ipython",
    "version": 2
   },
   "file_extension": ".py",
   "mimetype": "text/x-python",
   "name": "python",
   "nbconvert_exporter": "python",
   "pygments_lexer": "ipython2",
   "version": "2.7.13"
  }
 },
 "nbformat": 4,
 "nbformat_minor": 1
}
